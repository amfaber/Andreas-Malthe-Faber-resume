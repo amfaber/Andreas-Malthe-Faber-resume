{
 "cells": [
  {
   "cell_type": "code",
   "execution_count": 12,
   "id": "fc94f1df",
   "metadata": {},
   "outputs": [
    {
     "name": "stdout",
     "output_type": "stream",
     "text": [
      "30\n",
      "1073741793\n"
     ]
    }
   ],
   "source": [
    "#https://open.kattis.com/problems/character\n",
    "#COMPLETED\n",
    "import math\n",
    "inp = int(input())\n",
    "out = 0\n",
    "def C(N, k):\n",
    "    return math.factorial(N)//math.factorial(k)//math.factorial(N-k)\n",
    "for i in range(2, inp+1):\n",
    "    out += C(inp, i)\n",
    "print(out)"
   ]
  }
 ],
 "metadata": {
  "kernelspec": {
   "display_name": "Python 3",
   "language": "python",
   "name": "python3"
  },
  "language_info": {
   "codemirror_mode": {
    "name": "ipython",
    "version": 3
   },
   "file_extension": ".py",
   "mimetype": "text/x-python",
   "name": "python",
   "nbconvert_exporter": "python",
   "pygments_lexer": "ipython3",
   "version": "3.8.8"
  }
 },
 "nbformat": 4,
 "nbformat_minor": 5
}
