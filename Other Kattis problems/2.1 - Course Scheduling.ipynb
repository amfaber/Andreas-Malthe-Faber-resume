{
 "cells": [
  {
   "cell_type": "code",
   "execution_count": 38,
   "id": "6a56bce9",
   "metadata": {},
   "outputs": [
    {
     "name": "stdout",
     "output_type": "stream",
     "text": [
      "4\n",
      "PINK TIE CS241\n",
      "JOHN DOE CS241\n",
      "JOHN DOE CSS\n",
      "JOHN DOE CSS\n",
      "CS241 2\n",
      "CSS 1\n"
     ]
    }
   ],
   "source": [
    "#https://open.kattis.com/problems/coursescheduling\n",
    "#COMPLETED\n",
    "n = int(input())\n",
    "inputs = []\n",
    "for i in range(n):\n",
    "    line = input().split(\" \")\n",
    "    inputs.append((\" \".join(line[:2]), line[2]))\n",
    "\n",
    "\n",
    "courses = {}\n",
    "for inp in inputs:\n",
    "    try:\n",
    "        courses[inp[1]] = courses[inp[1]].union({inp[0]})\n",
    "    except KeyError:\n",
    "        courses.update({inp[1] : {inp[0]}})\n",
    "\n",
    "keys = sorted([key for key in courses])\n",
    "\n",
    "for key in keys:\n",
    "    print(f\"{key} {len(courses[key])}\")"
   ]
  },
  {
   "cell_type": "code",
   "execution_count": 37,
   "id": "34a297dc",
   "metadata": {},
   "outputs": [
    {
     "data": {
      "text/plain": [
       "['CS241', 'CSS']"
      ]
     },
     "execution_count": 37,
     "metadata": {},
     "output_type": "execute_result"
    }
   ],
   "source": [
    "keys = sorted([key for key in courses])"
   ]
  },
  {
   "cell_type": "code",
   "execution_count": 31,
   "id": "3e7d83b8",
   "metadata": {},
   "outputs": [
    {
     "name": "stdout",
     "output_type": "stream",
     "text": [
      "hi\n",
      "hi\n",
      "hello\n",
      "hello\n",
      "CS241 2\n",
      "CSS 1\n"
     ]
    }
   ],
   "source": [
    "4\n",
    "PINK TIE CS241\n",
    "JOHN DOE CS241\n",
    "JOHN DOE CSS\n",
    "JOHN DOE CSS"
   ]
  }
 ],
 "metadata": {
  "kernelspec": {
   "display_name": "Python 3",
   "language": "python",
   "name": "python3"
  },
  "language_info": {
   "codemirror_mode": {
    "name": "ipython",
    "version": 3
   },
   "file_extension": ".py",
   "mimetype": "text/x-python",
   "name": "python",
   "nbconvert_exporter": "python",
   "pygments_lexer": "ipython3",
   "version": "3.8.8"
  }
 },
 "nbformat": 4,
 "nbformat_minor": 5
}
