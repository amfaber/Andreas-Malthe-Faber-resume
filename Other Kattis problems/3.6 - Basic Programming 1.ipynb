{
 "cells": [
  {
   "cell_type": "code",
   "execution_count": 49,
   "id": "18e1770d",
   "metadata": {},
   "outputs": [
    {
     "name": "stdout",
     "output_type": "stream",
     "text": [
      "3 7\n",
      "45 2 89\n"
     ]
    },
    {
     "ename": "IndexError",
     "evalue": "list index out of range",
     "output_type": "error",
     "traceback": [
      "\u001b[0;31m---------------------------------------------------------------------------\u001b[0m",
      "\u001b[0;31mIndexError\u001b[0m                                Traceback (most recent call last)",
      "\u001b[0;32m<ipython-input-49-0f2b7f293822>\u001b[0m in \u001b[0;36m<module>\u001b[0;34m\u001b[0m\n\u001b[1;32m     73\u001b[0m \u001b[0mt\u001b[0m \u001b[0;34m=\u001b[0m \u001b[0mint\u001b[0m\u001b[0;34m(\u001b[0m\u001b[0minput\u001b[0m\u001b[0;34m(\u001b[0m\u001b[0;34m)\u001b[0m\u001b[0;34m.\u001b[0m\u001b[0msplit\u001b[0m\u001b[0;34m(\u001b[0m\u001b[0;34m\" \"\u001b[0m\u001b[0;34m)\u001b[0m\u001b[0;34m[\u001b[0m\u001b[0;36m1\u001b[0m\u001b[0;34m]\u001b[0m\u001b[0;34m)\u001b[0m\u001b[0;34m\u001b[0m\u001b[0;34m\u001b[0m\u001b[0m\n\u001b[1;32m     74\u001b[0m \u001b[0mA\u001b[0m \u001b[0;34m=\u001b[0m \u001b[0;34m[\u001b[0m\u001b[0mint\u001b[0m\u001b[0;34m(\u001b[0m\u001b[0mi\u001b[0m\u001b[0;34m)\u001b[0m \u001b[0;32mfor\u001b[0m \u001b[0mi\u001b[0m \u001b[0;32min\u001b[0m \u001b[0minput\u001b[0m\u001b[0;34m(\u001b[0m\u001b[0;34m)\u001b[0m\u001b[0;34m.\u001b[0m\u001b[0msplit\u001b[0m\u001b[0;34m(\u001b[0m\u001b[0;34m\" \"\u001b[0m\u001b[0;34m)\u001b[0m\u001b[0;34m]\u001b[0m\u001b[0;34m\u001b[0m\u001b[0;34m\u001b[0m\u001b[0m\n\u001b[0;32m---> 75\u001b[0;31m \u001b[0mdic\u001b[0m\u001b[0;34m[\u001b[0m\u001b[0mt\u001b[0m\u001b[0;34m]\u001b[0m\u001b[0;34m(\u001b[0m\u001b[0mA\u001b[0m\u001b[0;34m)\u001b[0m\u001b[0;34m\u001b[0m\u001b[0;34m\u001b[0m\u001b[0m\n\u001b[0m",
      "\u001b[0;32m<ipython-input-49-0f2b7f293822>\u001b[0m in \u001b[0;36mfunc7\u001b[0;34m(A)\u001b[0m\n\u001b[1;32m     57\u001b[0m     \u001b[0mpath\u001b[0m\u001b[0;34m[\u001b[0m\u001b[0mi\u001b[0m\u001b[0;34m]\u001b[0m \u001b[0;34m=\u001b[0m \u001b[0;36m1\u001b[0m\u001b[0;34m\u001b[0m\u001b[0;34m\u001b[0m\u001b[0m\n\u001b[1;32m     58\u001b[0m     \u001b[0;32mwhile\u001b[0m \u001b[0;32mTrue\u001b[0m\u001b[0;34m:\u001b[0m\u001b[0;34m\u001b[0m\u001b[0;34m\u001b[0m\u001b[0m\n\u001b[0;32m---> 59\u001b[0;31m         \u001b[0;32mif\u001b[0m \u001b[0mpath\u001b[0m\u001b[0;34m[\u001b[0m\u001b[0mA\u001b[0m\u001b[0;34m[\u001b[0m\u001b[0mi\u001b[0m\u001b[0;34m]\u001b[0m\u001b[0;34m]\u001b[0m \u001b[0;34m==\u001b[0m \u001b[0;36m1\u001b[0m\u001b[0;34m:\u001b[0m\u001b[0;34m\u001b[0m\u001b[0;34m\u001b[0m\u001b[0m\n\u001b[0m\u001b[1;32m     60\u001b[0m             \u001b[0mprint\u001b[0m\u001b[0;34m(\u001b[0m\u001b[0;34m\"Cyclic\"\u001b[0m\u001b[0;34m)\u001b[0m\u001b[0;34m\u001b[0m\u001b[0;34m\u001b[0m\u001b[0m\n\u001b[1;32m     61\u001b[0m             \u001b[0;32mreturn\u001b[0m\u001b[0;34m\u001b[0m\u001b[0;34m\u001b[0m\u001b[0m\n",
      "\u001b[0;31mIndexError\u001b[0m: list index out of range"
     ]
    }
   ],
   "source": [
    "#https://open.kattis.com/problems/basicprogramming1\n",
    "#COMPLETED\n",
    "def func1(A):\n",
    "    print(7)\n",
    "\n",
    "def func2(A):\n",
    "    if A[0] > A[1]:\n",
    "        print(\"Bigger\")\n",
    "    elif A[0] == A[1]:\n",
    "        print(\"equal\")\n",
    "    else:\n",
    "        print(\"smaller\")\n",
    "        \n",
    "def func3(A):\n",
    "    l = sorted(A[:3])\n",
    "    print(l[1])\n",
    "\n",
    "def func4(A):\n",
    "    print(sum(A))\n",
    "\n",
    "def func5(A):\n",
    "    print(sum(i for i in A if i%2 == 0))\n",
    "\n",
    "def func6(A):\n",
    "    ab = \"\".join(chr(i) for i in range(ord(\"a\"), ord(\"z\")+1))\n",
    "    print(\"\".join(ab[i%26] for i in A))\n",
    "    \n",
    "\n",
    "#https://open.kattis.com/problems/basicprogramming1\n",
    "def func1(A):\n",
    "    print(7)\n",
    "\n",
    "def func2(A):\n",
    "    if A[0] > A[1]:\n",
    "        print(\"Bigger\")\n",
    "    elif A[0] == A[1]:\n",
    "        print(\"equal\")\n",
    "    else:\n",
    "        print(\"smaller\")\n",
    "        \n",
    "def func3(A):\n",
    "    l = sorted(A[:3])\n",
    "    print(l[1])\n",
    "\n",
    "def func4(A):\n",
    "    print(sum(A))\n",
    "\n",
    "def func5(A):\n",
    "    print(sum(i for i in A if i%2 == 0))\n",
    "\n",
    "def func6(A):\n",
    "    ab = \"\".join(chr(i) for i in range(ord(\"a\"), ord(\"z\")+1))\n",
    "    print(\"\".join(ab[i%26] for i in A))\n",
    "    \n",
    "def func7(A):\n",
    "    path = [0]*len(A)\n",
    "    i = 0\n",
    "    path[i] = 1\n",
    "    while True:\n",
    "        if A[i] > len(A)-1:\n",
    "            print(\"Out\")\n",
    "            return\n",
    "        elif path[A[i]] == 1:\n",
    "            print(\"Cyclic\")\n",
    "            return\n",
    "        elif A[i] == len(A)-1:\n",
    "            print(\"Done\")\n",
    "            return\n",
    "        else:\n",
    "            path[i] = 1\n",
    "            i = A[i]\n",
    "\n",
    "dic = {1: func1, 2: func2, 3: func3, 4: func4, 5: func5, 6: func6, 7: func7}\n",
    "t = int(input().split(\" \")[1])\n",
    "A = [int(i) for i in input().split(\" \")]\n",
    "dic[t](A)\n"
   ]
  }
 ],
 "metadata": {
  "kernelspec": {
   "display_name": "Python 3",
   "language": "python",
   "name": "python3"
  },
  "language_info": {
   "codemirror_mode": {
    "name": "ipython",
    "version": 3
   },
   "file_extension": ".py",
   "mimetype": "text/x-python",
   "name": "python",
   "nbconvert_exporter": "python",
   "pygments_lexer": "ipython3",
   "version": "3.8.8"
  }
 },
 "nbformat": 4,
 "nbformat_minor": 5
}
