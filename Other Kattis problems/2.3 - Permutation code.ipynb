{
 "cells": [
  {
   "cell_type": "code",
   "execution_count": 29,
   "id": "1c81b9f0",
   "metadata": {},
   "outputs": [
    {
     "name": "stdout",
     "output_type": "stream",
     "text": [
      "32\n",
      "ABCDEFGHIJKLMNOPQRSTUVWXYZ._!?,;\n",
      ";ABCDEFGHIJKLMNOPQRSTUVWXYZ._!?,\n",
      "MOMCUKZ,ZPD\n",
      "HELLO_WORLD\n",
      "0\n"
     ]
    }
   ],
   "source": [
    "#https://open.kattis.com/problems/permcode\n",
    "#COMPLETED\n",
    "def func(key, msg):\n",
    "    x, S, P = key\n",
    "    n = len(msg)\n",
    "    d = int(n**1.5 + x)%n\n",
    "    out = [\"\"]*n\n",
    "    out[d] = P[S.find(msg[d])]\n",
    "    therest = [i%n for i in range(d+1, n+d)][::-1]\n",
    "    for j in therest:\n",
    "        c = S.find(msg[j])\n",
    "        b = S.find(out[(j+1)%n])\n",
    "        a = c^b\n",
    "        out[j] = P[a]\n",
    "    return \"\".join(out)\n",
    "\n",
    "while True:\n",
    "    key = [int(input())]\n",
    "    if key[0] == 0:\n",
    "        break\n",
    "    key.append(input())\n",
    "    key.append(input())\n",
    "    msg = input()\n",
    "    print(func(key, msg))"
   ]
  },
  {
   "cell_type": "code",
   "execution_count": 26,
   "id": "c94e6afb",
   "metadata": {},
   "outputs": [
    {
     "name": "stdout",
     "output_type": "stream",
     "text": [
      "5\n",
      "2\n"
     ]
    },
    {
     "data": {
      "text/plain": [
       "['5', '2']"
      ]
     },
     "execution_count": 26,
     "metadata": {},
     "output_type": "execute_result"
    }
   ],
   "source": [
    "32\n",
    "ABCDEFGHIJKLMNOPQRSTUVWXYZ._!?,;\n",
    ";ABCDEFGHIJKLMNOPQRSTUVWXYZ._!?,\n",
    "MOMCUKZ,ZPD"
   ]
  },
  {
   "cell_type": "code",
   "execution_count": null,
   "id": "2dddc14d",
   "metadata": {},
   "outputs": [],
   "source": []
  },
  {
   "cell_type": "code",
   "execution_count": 25,
   "id": "782bab8d",
   "metadata": {},
   "outputs": [
    {
     "data": {
      "text/plain": [
       "['T', 'E', 'E', 'T', 'E', 'R']"
      ]
     },
     "execution_count": 25,
     "metadata": {},
     "output_type": "execute_result"
    }
   ],
   "source": [
    "func([102, \"RATE\", \"TEAR\"], \"ETAEAA\")"
   ]
  },
  {
   "cell_type": "code",
   "execution_count": null,
   "id": "c45190dd",
   "metadata": {},
   "outputs": [],
   "source": []
  }
 ],
 "metadata": {
  "kernelspec": {
   "display_name": "Python 3",
   "language": "python",
   "name": "python3"
  },
  "language_info": {
   "codemirror_mode": {
    "name": "ipython",
    "version": 3
   },
   "file_extension": ".py",
   "mimetype": "text/x-python",
   "name": "python",
   "nbconvert_exporter": "python",
   "pygments_lexer": "ipython3",
   "version": "3.8.8"
  }
 },
 "nbformat": 4,
 "nbformat_minor": 5
}
