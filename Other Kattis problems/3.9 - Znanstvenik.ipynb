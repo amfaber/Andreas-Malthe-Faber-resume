{
 "cells": [
  {
   "cell_type": "code",
   "execution_count": 2,
   "id": "6c8c7014",
   "metadata": {},
   "outputs": [],
   "source": [
    "#https://open.kattis.com/problems/znanstvenik\n",
    "#COMPLETED\n",
    "nrow = int(input().split(\" \")[0])\n",
    "strs = []\n",
    "for _ in range(nrow):\n",
    "    strs.append(input())\n",
    "\n",
    "\n",
    "def func(strs):\n",
    "    transpose = lambda strs : [\"\".join(s[i] for s in strs) for i in range(len(strs[0]))]\n",
    "    colcut = lambda strs, i: [s[i:] for s in strs]\n",
    "    running = True\n",
    "    strs = transpose(strs)\n",
    "    numrowstocut = -1\n",
    "    while running == True:\n",
    "        strs = colcut(strs, 1)\n",
    "        numrowstocut += 1\n",
    "        running = len(set(strs)) == len(strs)\n",
    "    return numrowstocut\n",
    "print(func(strs))"
   ]
  }
 ],
 "metadata": {
  "kernelspec": {
   "display_name": "Python 3.6.8 64-bit",
   "language": "python",
   "name": "python3"
  },
  "language_info": {
   "codemirror_mode": {
    "name": "ipython",
    "version": 3
   },
   "file_extension": ".py",
   "mimetype": "text/x-python",
   "name": "python",
   "nbconvert_exporter": "python",
   "pygments_lexer": "ipython3",
   "version": "3.8.10"
  },
  "vscode": {
   "interpreter": {
    "hash": "916dbcbb3f70747c44a77c7bcd40155683ae19c65e1c03b4aa3499c5328201f1"
   }
  }
 },
 "nbformat": 4,
 "nbformat_minor": 5
}
