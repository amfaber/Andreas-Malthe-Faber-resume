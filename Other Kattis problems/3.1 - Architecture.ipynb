{
 "cells": [
  {
   "cell_type": "code",
   "execution_count": 9,
   "id": "ac0fad07",
   "metadata": {},
   "outputs": [
    {
     "name": "stdout",
     "output_type": "stream",
     "text": [
      "4 4\n",
      "1 2 3 4\n",
      "1 2 3 2\n",
      "impossible\n"
     ]
    }
   ],
   "source": [
    "#https://open.kattis.com/problems/architecture\n",
    "#COMPLETED\n",
    "input()\n",
    "R = [int(i) for i in input().split(\" \")]\n",
    "C = [int(i) for i in input().split(\" \")]\n",
    "print(\"im\"*(not max(R) == max(C)) + \"possible\")"
   ]
  }
 ],
 "metadata": {
  "kernelspec": {
   "display_name": "Python 3",
   "language": "python",
   "name": "python3"
  },
  "language_info": {
   "codemirror_mode": {
    "name": "ipython",
    "version": 3
   },
   "file_extension": ".py",
   "mimetype": "text/x-python",
   "name": "python",
   "nbconvert_exporter": "python",
   "pygments_lexer": "ipython3",
   "version": "3.8.8"
  }
 },
 "nbformat": 4,
 "nbformat_minor": 5
}
