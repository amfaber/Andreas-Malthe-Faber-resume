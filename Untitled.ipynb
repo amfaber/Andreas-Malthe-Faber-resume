{
 "cells": [
  {
   "cell_type": "code",
   "execution_count": 1,
   "metadata": {},
   "outputs": [],
   "source": [
    "class Node():\n",
    "    def __init__(self, val):\n",
    "        self.children = [None, None]\n",
    "        self.val = val\n",
    "    @property\n",
    "    def left(self):\n",
    "        return self.children[0]\n",
    "    @left.setter\n",
    "    def left(self, val):\n",
    "        self.children[0] = val\n",
    "    @property\n",
    "    def right(self):\n",
    "         return self.children[-1]\n",
    "    @right.setter\n",
    "    def right(self, val):\n",
    "        self.children[-1] = val\n",
    "        \n",
    "    def depth(self, level = 1):\n",
    "        newlevel = 0\n",
    "        for child in self.children:\n",
    "            if not child is None:\n",
    "                newlevel = child.depth(level + 1)\n",
    "        return max(newlevel, level)\n",
    "    \n",
    "    def printer(self, string = \"\", level = 1):\n",
    "        out = \"\"\n",
    "        for child in self.children:\n",
    "            if not child is None:\n",
    "                out = out + f\"    {child.val}\"\n",
    "                self.printer(level = level + 1)\n",
    "        print(out)\n",
    "        return None\n",
    "        \n",
    "    def __repr__(self):\n",
    "        return f\"      {self.val}\\n{self.left}     {self.right}\""
   ]
  },
  {
   "cell_type": "code",
   "execution_count": 2,
   "metadata": {},
   "outputs": [],
   "source": [
    "test = Node(5)\n",
    "test.left = Node(6)\n",
    "test.left.left = Node(1)\n",
    "test.left.left.left = Node(8)"
   ]
  },
  {
   "cell_type": "code",
   "execution_count": 3,
   "metadata": {},
   "outputs": [],
   "source": [
    "head = test\n",
    "for i in range(5):\n",
    "    head.right = Node(i)\n",
    "    head = head.right"
   ]
  },
  {
   "cell_type": "code",
   "execution_count": null,
   "metadata": {},
   "outputs": [],
   "source": [
    "test.printer()"
   ]
  },
  {
   "cell_type": "code",
   "execution_count": null,
   "metadata": {},
   "outputs": [],
   "source": []
  }
 ],
 "metadata": {
  "kernelspec": {
   "display_name": "Python 3",
   "language": "python",
   "name": "python3"
  },
  "language_info": {
   "codemirror_mode": {
    "name": "ipython",
    "version": 3
   },
   "file_extension": ".py",
   "mimetype": "text/x-python",
   "name": "python",
   "nbconvert_exporter": "python",
   "pygments_lexer": "ipython3",
   "version": "3.8.5"
  }
 },
 "nbformat": 4,
 "nbformat_minor": 4
}
