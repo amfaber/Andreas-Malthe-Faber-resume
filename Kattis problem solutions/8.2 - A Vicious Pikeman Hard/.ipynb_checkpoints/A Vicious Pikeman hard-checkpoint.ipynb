{
 "cells": [
  {
   "cell_type": "code",
   "execution_count": 8,
   "id": "6ad93ff4",
   "metadata": {},
   "outputs": [
    {
     "name": "stdout",
     "output_type": "stream",
     "text": [
      "2218715 236838419\n"
     ]
    }
   ],
   "source": [
    "#https://open.kattis.com/problems/pikemanhard\n",
    "#COMPLETED\n",
    "\n",
    "# N, T = 10**9, 10**9\n",
    "# A, B, C, t0 = 1,2,10**6,1\n",
    "\n",
    "# import numpy as np\n",
    "# N, T = 10**9, 10**9\n",
    "# A, B, C,  = np.random.randint(1, 10**6+1, 3)\n",
    "# t0 = np.random.randint(1, C+1)\n",
    "\n",
    "N, T = [int(i) for i in input().split(\" \")]\n",
    "A, B, C, t0 = [int(i) for i in input().split(\" \")]\n",
    "\n",
    "argsort = lambda seq: sorted(range(len(seq)), key=seq.__getitem__)\n",
    "\n",
    "def distributor(N, L, startup):\n",
    "    starter = L[:startup]\n",
    "    looper = L[startup:]\n",
    "    n = len(looper)\n",
    "    N = N - startup\n",
    "    out = [(starter[i], 1) for i in range(startup)]\n",
    "    out += [(looper[i], N//n + 1 * (i < (N % n)))  for i in range(n)]\n",
    "    return out\n",
    "\n",
    "def findind(A, B, C, t0):\n",
    "    ts = [float(\"inf\")]*(C+1)\n",
    "    new = t0\n",
    "    ts[new] = 0\n",
    "    ind = None\n",
    "    totallen = 1\n",
    "    while ind is None:\n",
    "        new = ((A * new + B) % C)+1\n",
    "        if ts[new] != float(\"inf\"):\n",
    "            ind = ts[new]\n",
    "            break\n",
    "        else:\n",
    "            ts[new] = totallen\n",
    "            totallen += 1\n",
    "    ts = argsort(ts)[:totallen]\n",
    "    return ts, ind\n",
    "\n",
    "\n",
    "ts, loopind = findind(A, B, C, t0)\n",
    "t = 0\n",
    "penalty = 0\n",
    "totalnprobs = 0\n",
    "sortedprobs = sorted(distributor(N, ts, loopind), key = lambda x: x[0])\n",
    "for problemtime, nproblems in sortedprobs:\n",
    "    extratime = problemtime * nproblems\n",
    "    if t + extratime <= T:\n",
    "        penalty += nproblems*t + problemtime*(nproblems*(nproblems+1))//2\n",
    "        totalnprobs += nproblems\n",
    "        t += extratime\n",
    "    else:\n",
    "        nproblems = (T - t) // problemtime\n",
    "#         print(problemtime, nproblems, T, t)\n",
    "        penalty += nproblems*t + problemtime*(nproblems*(nproblems+1))//2\n",
    "        totalnprobs += nproblems\n",
    "        break\n",
    "print(totalnprobs, penalty % (10**9 + 7))"
   ]
  }
 ],
 "metadata": {
  "kernelspec": {
   "display_name": "Python 3",
   "language": "python",
   "name": "python3"
  },
  "language_info": {
   "codemirror_mode": {
    "name": "ipython",
    "version": 3
   },
   "file_extension": ".py",
   "mimetype": "text/x-python",
   "name": "python",
   "nbconvert_exporter": "python",
   "pygments_lexer": "ipython3",
   "version": "3.8.8"
  }
 },
 "nbformat": 4,
 "nbformat_minor": 5
}
