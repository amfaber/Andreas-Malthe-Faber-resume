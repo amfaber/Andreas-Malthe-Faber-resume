{
 "cells": [
  {
   "cell_type": "code",
   "execution_count": 6,
   "id": "e806d8e4",
   "metadata": {},
   "outputs": [
    {
     "name": "stdout",
     "output_type": "stream",
     "text": [
      "5\n",
      "3\n",
      "1\n",
      "54\n",
      "5\n",
      "3\n"
     ]
    },
    {
     "data": {
      "text/plain": [
       "3"
      ]
     },
     "execution_count": 6,
     "metadata": {},
     "output_type": "execute_result"
    }
   ],
   "source": [
    "#https://open.kattis.com/problems/kafkaesque\n",
    "#COMPLETED\n",
    "n = int(input())\n",
    "seq = []\n",
    "for _ in range(n):\n",
    "    seq.append(int(input()))\n",
    "print(sum(seq[i] > seq[i+1] for i in range(n-1))+1)\n"
   ]
  }
 ],
 "metadata": {
  "kernelspec": {
   "display_name": "Python 3",
   "language": "python",
   "name": "python3"
  },
  "language_info": {
   "codemirror_mode": {
    "name": "ipython",
    "version": 3
   },
   "file_extension": ".py",
   "mimetype": "text/x-python",
   "name": "python",
   "nbconvert_exporter": "python",
   "pygments_lexer": "ipython3",
   "version": "3.8.8"
  }
 },
 "nbformat": 4,
 "nbformat_minor": 5
}
