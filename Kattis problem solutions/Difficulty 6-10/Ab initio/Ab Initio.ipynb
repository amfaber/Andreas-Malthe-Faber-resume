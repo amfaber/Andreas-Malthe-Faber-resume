{
 "cells": [
  {
   "cell_type": "code",
   "execution_count": 192,
   "id": "8791b8a6",
   "metadata": {},
   "outputs": [],
   "source": [
    "#https://open.kattis.com/problems/abinitio\n",
    "#COMPLETED\n",
    "def loader(filename = None):\n",
    "    if filename:\n",
    "        file = open(filename)\n",
    "        inputter = file.readline\n",
    "    else:\n",
    "        inputter = input\n",
    "    \n",
    "    V, E, Q = [int(i) for i in inputter().split(\" \")]\n",
    "    thegraph = [[0]*V for i in range(V)]\n",
    "    for i in range(E):\n",
    "        inp = [int(j) for j in inputter().split(\" \")]\n",
    "        thegraph[inp[0]][inp[1]] = 1\n",
    "    queries = []\n",
    "    for i in range(Q):\n",
    "        queries.append([int(j) for j in inputter().split(\" \")])\n",
    "        \n",
    "    if filename:\n",
    "        file.close()\n",
    "    return thegraph, queries\n",
    "\n",
    "\n",
    "def func1(graph):\n",
    "    V = len(graph) + 1\n",
    "    for ver in graph:\n",
    "        ver.append(0)\n",
    "    graph.append([0]*V)\n",
    "    \n",
    "def func2(graph, x, y):\n",
    "    graph[x][y] = 1\n",
    "\n",
    "def func3(graph, x):\n",
    "    V = len(graph)\n",
    "    graph[x][:] = [0]*V\n",
    "    for i in range(V):\n",
    "        graph[i][x] = 0\n",
    "\n",
    "def func4(graph, x, y):\n",
    "    graph[x][y] = 0\n",
    "\n",
    "def func5(graph):\n",
    "    graph[:] = [[row[j] for row in graph] for j in range(len(graph))]\n",
    "    \n",
    "def func6(graph):\n",
    "    graph[:] = [[int(not entry) for entry in row] for row in graph]\n",
    "    for i in range(len(graph)):\n",
    "        graph[i][i] = 0\n",
    "\n",
    "def func7(graph, x):\n",
    "    V = len(graph)\n",
    "    graph[x][:] = [1]*V\n",
    "    for i in range(V):\n",
    "        graph[i][x] = 1\n",
    "    graph[x][x] = 0\n",
    "\n",
    "def designator(graph, q):\n",
    "    dic = {1: func1, 2: func2, 3: func3, 4: func4, 5: func5, 6: func6, 7: func7}\n",
    "    dic[q[0]](graph, *q[1:])\n",
    "\n",
    "def execute(graph, queries):\n",
    "    for q in queries:\n",
    "        designator(graph, q)\n",
    "\n",
    "def output(graph, filename = None):\n",
    "    out = \"\"\n",
    "\n",
    "    V = len(graph)\n",
    "    out += str(V) + \"\\n\"\n",
    "    for i in range(V):\n",
    "        inds = [j for j, check in enumerate(graph[i]) if check != 0]\n",
    "        out += f\"{sum(graph[i])} {sum(ind*7**j for j, ind in enumerate(inds)) % (10**9+7)}\\n\"\n",
    "    \n",
    "    if filename:\n",
    "        with open(filename, \"w+\") as file:\n",
    "            file.write(out)\n",
    "        print(f\"output written to {filename}\")\n",
    "    else:\n",
    "        print(out)\n",
    "\n",
    "def printgraph(graph, filename):\n",
    "    with open(filename, \"w+\") as file:\n",
    "        for row in graph:\n",
    "            row = map(str, row)\n",
    "            file.write(\"\".join(row))\n",
    "            file.write(\"\\n\")\n",
    "\n",
    "thegraph, queries = loader(\"mydata.txt\")\n",
    "# printgraph(thegraph, \"pybefore.txt\")\n",
    "\n",
    "# execute(thegraph, queries)\n",
    "# output(thegraph, \"results.txt\")\n",
    "# printgraph(thegraph, \"pyafter.txt\")"
   ]
  },
  {
   "cell_type": "code",
   "execution_count": 243,
   "id": "3f18a734",
   "metadata": {},
   "outputs": [],
   "source": [
    "def reducer(queries, V):\n",
    "    out = []\n",
    "    mode = [0, 0]\n",
    "    def logic(q, mode = [0, 0]):\n",
    "        q = q.copy()\n",
    "        if q[0] == 5:\n",
    "            return None, [not mode[0], mode[1]]\n",
    "        elif q[0] == 6:\n",
    "            return None, [mode[0], not mode[1]]\n",
    "        else:\n",
    "            if mode[0]:\n",
    "                q[1:] = q[:0:-1]\n",
    "            if mode[1]:\n",
    "                dic = {1:1, 2: 4, 4: 2, 3: 7, 7: 3}\n",
    "                q[0] = dic[q[0]]\n",
    "            return q, mode\n",
    "    \n",
    "    for q in queries:\n",
    "        qp, mode = logic(q, mode)\n",
    "        if not qp is None:\n",
    "            out.append(qp)\n",
    "            if qp[0] == 1:\n",
    "                V += 1\n",
    "                if mode[1] == 1:\n",
    "                    out.append([7, V-1])\n",
    "    if mode[0] == 1:\n",
    "        out.append([5])\n",
    "    if mode[1] == 1:\n",
    "        out.append([6])\n",
    "    return out\n"
   ]
  },
  {
   "cell_type": "code",
   "execution_count": 244,
   "id": "16b570e1",
   "metadata": {},
   "outputs": [],
   "source": [
    "import numpy as np\n",
    "def gengraph(V):\n",
    "    out = \"\"\n",
    "    graph = np.random.randint(0,2, (V, V))\n",
    "    for i in range(len(graph)):\n",
    "        graph[i, i] = 0\n",
    "\n",
    "    E = 0\n",
    "    for i in range(graph.shape[0]):\n",
    "        for j in range(graph.shape[1]):\n",
    "            if graph[i, j]:\n",
    "                out += f\"{i} {j}\\n\"\n",
    "                E += 1\n",
    "    return E, out\n",
    "\n",
    "\n",
    "def genQ(V, Q):\n",
    "    dic = {\n",
    "        1: lambda V: \"\",\n",
    "        2: lambda V: \" \" + \" \".join(str(s) for s in np.random.choice(np.arange(V), 2, replace = False)),\n",
    "        3: lambda V: \" \" + str(np.random.randint(V)),\n",
    "        4: lambda V: \" \" + \" \".join(str(s) for s in np.random.choice(np.arange(V), 2, replace = False)),\n",
    "        5: lambda V: \"\",\n",
    "        6: lambda V: \"\"\n",
    "    }\n",
    "    out = \"\"\n",
    "    for i in range(Q):\n",
    "        q = np.random.randint(1, 7)\n",
    "        out += f\"{q}{dic[q](V)}\\n\"\n",
    "    return out\n",
    "\n",
    "def writetofile(V, Q, filename):\n",
    "    out = \"\"\n",
    "    E, graph = gengraph(V)\n",
    "    out += f\"{V} {E} {Q}\\n\"\n",
    "    out += graph\n",
    "    out += genQ(V, Q)\n",
    "    with open(filename, \"w+\") as file:\n",
    "        file.write(out)\n",
    "    "
   ]
  },
  {
   "cell_type": "code",
   "execution_count": 254,
   "id": "6e5c305e",
   "metadata": {},
   "outputs": [],
   "source": [
    "writetofile(2000, 2000, \"mydata_large.txt\")"
   ]
  },
  {
   "cell_type": "code",
   "execution_count": 263,
   "id": "af13052d",
   "metadata": {},
   "outputs": [
    {
     "name": "stdout",
     "output_type": "stream",
     "text": [
      "output written to resultsnew.txt\n"
     ]
    }
   ],
   "source": [
    "# fname = \"sample.in\"\n",
    "# fname = \"mydata.txt\"\n",
    "fname = \"mydata.txt\"\n",
    "\n",
    "thegraph, queries = loader(fname)\n",
    "V = len(thegraph)\n",
    "queries2 = reducer(queries, V)\n",
    "execute(thegraph, queries2)\n",
    "output(thegraph, \"resultsnew.txt\")\n",
    "\n",
    "\n"
   ]
  },
  {
   "cell_type": "code",
   "execution_count": 264,
   "id": "b7e86ae7",
   "metadata": {},
   "outputs": [
    {
     "data": {
      "text/plain": [
       "[[1],\n",
       " [7, 100],\n",
       " [7, 79],\n",
       " [1],\n",
       " [7, 101],\n",
       " [4, 63, 96],\n",
       " [1],\n",
       " [7, 102],\n",
       " [2, 0, 70],\n",
       " [3, 60],\n",
       " [2, 83, 33],\n",
       " [4, 2, 62],\n",
       " [4, 64, 76],\n",
       " [2, 68, 69],\n",
       " [1],\n",
       " [7, 103],\n",
       " [2, 65, 90],\n",
       " [4, 22, 30],\n",
       " [2, 47, 46],\n",
       " [3, 71],\n",
       " [1],\n",
       " [2, 16, 43],\n",
       " [4, 6, 12],\n",
       " [3, 77],\n",
       " [3, 4],\n",
       " [2, 63, 50],\n",
       " [4, 74, 9],\n",
       " [1],\n",
       " [1],\n",
       " [4, 74, 61],\n",
       " [2, 4, 97],\n",
       " [1],\n",
       " [1],\n",
       " [1],\n",
       " [4, 8, 16],\n",
       " [2, 6, 65],\n",
       " [2, 22, 60],\n",
       " [7, 66],\n",
       " [2, 46, 91],\n",
       " [1],\n",
       " [7, 110],\n",
       " [1],\n",
       " [7, 111],\n",
       " [4, 11, 50],\n",
       " [4, 6, 17],\n",
       " [2, 59, 1],\n",
       " [1],\n",
       " [7, 112],\n",
       " [4, 52, 17],\n",
       " [7, 81],\n",
       " [2, 40, 82],\n",
       " [3, 6],\n",
       " [3, 26],\n",
       " [1],\n",
       " [4, 0, 51],\n",
       " [2, 73, 46],\n",
       " [2, 77, 15],\n",
       " [4, 5, 23],\n",
       " [2, 1, 92],\n",
       " [4, 90, 7],\n",
       " [4, 72, 78],\n",
       " [2, 76, 65],\n",
       " [2, 22, 12],\n",
       " [1],\n",
       " [7, 114],\n",
       " [7, 24],\n",
       " [2, 84, 88],\n",
       " [1],\n",
       " [7, 115],\n",
       " [1],\n",
       " [7, 116],\n",
       " [1],\n",
       " [4, 58, 75],\n",
       " [3, 58],\n",
       " [3, 58],\n",
       " [4, 86, 7],\n",
       " [2, 17, 56],\n",
       " [2, 70, 6],\n",
       " [1],\n",
       " [5]]"
      ]
     },
     "execution_count": 264,
     "metadata": {},
     "output_type": "execute_result"
    }
   ],
   "source": [
    "queries2"
   ]
  },
  {
   "cell_type": "code",
   "execution_count": 281,
   "id": "c181412c",
   "metadata": {},
   "outputs": [],
   "source": [
    "with open(\"newQ.txt\") as file:\n",
    "    test = [[int(x) for x in s.strip().split(\" \")] for s in file.readlines()]\n",
    "    "
   ]
  },
  {
   "cell_type": "code",
   "execution_count": 282,
   "id": "858f03dc",
   "metadata": {},
   "outputs": [
    {
     "data": {
      "text/plain": [
       "True"
      ]
     },
     "execution_count": 282,
     "metadata": {},
     "output_type": "execute_result"
    }
   ],
   "source": [
    "test == queries2"
   ]
  },
  {
   "cell_type": "code",
   "execution_count": 278,
   "id": "03352326",
   "metadata": {},
   "outputs": [
    {
     "name": "stdout",
     "output_type": "stream",
     "text": [
      "True\n",
      "True\n",
      "True\n",
      "True\n",
      "True\n",
      "True\n",
      "True\n",
      "True\n",
      "True\n",
      "True\n",
      "True\n",
      "True\n",
      "True\n",
      "True\n",
      "True\n",
      "True\n",
      "True\n",
      "True\n",
      "True\n",
      "True\n",
      "True\n",
      "True\n",
      "True\n",
      "True\n",
      "True\n",
      "True\n",
      "True\n",
      "True\n",
      "True\n",
      "True\n",
      "True\n",
      "True\n",
      "True\n",
      "True\n",
      "True\n",
      "True\n",
      "True\n",
      "True\n",
      "True\n",
      "True\n",
      "True\n",
      "True\n",
      "True\n",
      "True\n",
      "True\n",
      "True\n",
      "True\n",
      "True\n",
      "True\n",
      "True\n",
      "True\n",
      "True\n",
      "True\n",
      "True\n",
      "True\n",
      "True\n",
      "True\n",
      "True\n",
      "True\n",
      "True\n",
      "True\n",
      "True\n",
      "True\n",
      "True\n",
      "True\n",
      "True\n",
      "True\n",
      "True\n",
      "True\n",
      "True\n",
      "True\n",
      "True\n",
      "True\n",
      "True\n",
      "True\n",
      "True\n",
      "True\n",
      "True\n",
      "True\n",
      "True\n"
     ]
    }
   ],
   "source": [
    "for x, y in zip(test, queries2):\n",
    "    print(x == y)"
   ]
  },
  {
   "cell_type": "code",
   "execution_count": 261,
   "id": "c3135053",
   "metadata": {},
   "outputs": [
    {
     "data": {
      "text/plain": [
       "[[7, 2311], [5]]"
      ]
     },
     "execution_count": 261,
     "metadata": {},
     "output_type": "execute_result"
    }
   ],
   "source": [
    "queries2[-2:]"
   ]
  },
  {
   "cell_type": "code",
   "execution_count": 256,
   "id": "cb459dba",
   "metadata": {},
   "outputs": [
    {
     "name": "stdout",
     "output_type": "stream",
     "text": [
      "output written to results.txt\n"
     ]
    }
   ],
   "source": [
    "thegraph, queries = loader(fname)\n",
    "execute(thegraph, queries)\n",
    "output(thegraph, \"results.txt\")"
   ]
  },
  {
   "cell_type": "code",
   "execution_count": 257,
   "id": "581cbf18",
   "metadata": {},
   "outputs": [
    {
     "name": "stdout",
     "output_type": "stream",
     "text": [
      "True\n"
     ]
    }
   ],
   "source": [
    "with open(\"results.txt\") as file1, open(\"resultsnew.txt\") as file2:\n",
    "    print(file1.read() == file2.read())"
   ]
  },
  {
   "cell_type": "code",
   "execution_count": 259,
   "id": "db0a3930",
   "metadata": {},
   "outputs": [
    {
     "name": "stdout",
     "output_type": "stream",
     "text": [
      "[[6], [1], [3, 79], [1], [2, 63, 96], [6], [6], [1], [5], [6], [2, 70, 0], [5], [3, 60], [6], [4, 83, 33], [2, 2, 62], [2, 64, 76], [5], [4, 69, 68], [1], [4, 90, 65], [2, 30, 22], [6], [6], [4, 46, 47], [5], [6], [3, 71], [1], [2, 16, 43], [4, 6, 12], [3, 77], [3, 4], [5], [2, 50, 63], [4, 9, 74], [1], [1], [4, 61, 74], [2, 97, 4], [1], [1], [1], [4, 16, 8], [2, 65, 6], [5], [6], [4, 22, 60], [5], [3, 66], [4, 91, 46], [1], [1], [2, 50, 11], [2, 17, 6], [4, 1, 59], [1], [2, 17, 52], [3, 81], [4, 82, 40], [5], [5], [6], [3, 6], [3, 26], [5], [1], [5], [4, 51, 0], [6], [4, 46, 73], [4, 15, 77], [2, 23, 5], [6], [2, 92, 1], [6], [6], [5], [4, 90, 7], [4, 72, 78], [2, 76, 65], [2, 22, 12], [6], [1], [3, 24], [4, 84, 88], [1], [1], [5], [6], [1], [4, 75, 58], [3, 58], [3, 58], [4, 7, 86], [6], [6], [2, 56, 17], [2, 6, 70], [1]]\n",
      "\n",
      "[[1], [7, 100], [7, 79], [1], [7, 101], [4, 63, 96], [1], [7, 102], [2, 0, 70], [3, 60], [2, 83, 33], [4, 2, 62], [4, 64, 76], [2, 68, 69], [1], [7, 103], [2, 65, 90], [4, 22, 30], [2, 47, 46], [3, 71], [1], [2, 16, 43], [4, 6, 12], [3, 77], [3, 4], [2, 63, 50], [4, 74, 9], [1], [1], [4, 74, 61], [2, 4, 97], [1], [1], [1], [4, 8, 16], [2, 6, 65], [2, 22, 60], [7, 66], [2, 46, 91], [1], [7, 110], [1], [7, 111], [4, 11, 50], [4, 6, 17], [2, 59, 1], [1], [7, 112], [4, 52, 17], [7, 81], [2, 40, 82], [3, 6], [3, 26], [1], [4, 0, 51], [2, 73, 46], [2, 77, 15], [4, 5, 23], [2, 1, 92], [4, 90, 7], [4, 72, 78], [2, 76, 65], [2, 22, 12], [1], [7, 114], [7, 24], [2, 84, 88], [1], [7, 115], [1], [7, 116], [1], [4, 58, 75], [3, 58], [3, 58], [4, 86, 7], [2, 17, 56], [2, 70, 6], [1], [5]]\n"
     ]
    }
   ],
   "source": [
    "print(queries)\n",
    "print()\n",
    "print(queries2)\n"
   ]
  },
  {
   "cell_type": "code",
   "execution_count": 114,
   "id": "b84f44d2",
   "metadata": {},
   "outputs": [],
   "source": [
    "test = [1, 2, 3]"
   ]
  },
  {
   "cell_type": "code",
   "execution_count": 115,
   "id": "f18878fa",
   "metadata": {},
   "outputs": [
    {
     "data": {
      "text/plain": [
       "[3, 2]"
      ]
     },
     "execution_count": 115,
     "metadata": {},
     "output_type": "execute_result"
    }
   ],
   "source": [
    "test[::-1][0:2]"
   ]
  },
  {
   "cell_type": "code",
   "execution_count": 116,
   "id": "c6f5c64f",
   "metadata": {},
   "outputs": [
    {
     "data": {
      "text/plain": [
       "[1, 3, 2]"
      ]
     },
     "execution_count": 116,
     "metadata": {},
     "output_type": "execute_result"
    }
   ],
   "source": [
    "test[1:] = test[:0:-1]\n",
    "test"
   ]
  },
  {
   "cell_type": "code",
   "execution_count": 117,
   "id": "78f45708",
   "metadata": {},
   "outputs": [],
   "source": [
    "test[1: ] = [2,3,4]"
   ]
  },
  {
   "cell_type": "code",
   "execution_count": 58,
   "id": "e5ceadd5",
   "metadata": {},
   "outputs": [
    {
     "data": {
      "text/plain": [
       "[1, 2, 3, 4]"
      ]
     },
     "execution_count": 58,
     "metadata": {},
     "output_type": "execute_result"
    }
   ],
   "source": [
    "test"
   ]
  },
  {
   "cell_type": "code",
   "execution_count": 41,
   "id": "e4ee766b",
   "metadata": {},
   "outputs": [],
   "source": [
    "\n",
    "printgraph(graph, \"pygraph.txt\")"
   ]
  },
  {
   "cell_type": "code",
   "execution_count": 36,
   "id": "639b0d75",
   "metadata": {},
   "outputs": [
    {
     "name": "stdout",
     "output_type": "stream",
     "text": [
      "output written to results.txt\n"
     ]
    }
   ],
   "source": [
    "execute(graph, queries)\n",
    "output(graph, \"results.txt\")"
   ]
  },
  {
   "cell_type": "code",
   "execution_count": 13,
   "id": "210ff74d",
   "metadata": {},
   "outputs": [
    {
     "ename": "SyntaxError",
     "evalue": "invalid syntax (<ipython-input-13-e830affaf5b9>, line 1)",
     "output_type": "error",
     "traceback": [
      "\u001b[0;36m  File \u001b[0;32m\"<ipython-input-13-e830affaf5b9>\"\u001b[0;36m, line \u001b[0;32m1\u001b[0m\n\u001b[0;31m    3 2 8\u001b[0m\n\u001b[0m      ^\u001b[0m\n\u001b[0;31mSyntaxError\u001b[0m\u001b[0;31m:\u001b[0m invalid syntax\n"
     ]
    }
   ],
   "source": [
    "3 2 8\n",
    "0 1\n",
    "0 2\n",
    "2 1 2\n",
    "1\n",
    "2 3 0\n",
    "4 0 2\n",
    "3 0\n",
    "2 0 3\n",
    "6\n",
    "5\n"
   ]
  },
  {
   "cell_type": "code",
   "execution_count": null,
   "id": "2f589a5d",
   "metadata": {},
   "outputs": [],
   "source": []
  }
 ],
 "metadata": {
  "kernelspec": {
   "display_name": "Python 3",
   "language": "python",
   "name": "python3"
  },
  "language_info": {
   "codemirror_mode": {
    "name": "ipython",
    "version": 3
   },
   "file_extension": ".py",
   "mimetype": "text/x-python",
   "name": "python",
   "nbconvert_exporter": "python",
   "pygments_lexer": "ipython3",
   "version": "3.8.8"
  }
 },
 "nbformat": 4,
 "nbformat_minor": 5
}
