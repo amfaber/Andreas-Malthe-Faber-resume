{
 "cells": [
  {
   "cell_type": "code",
   "execution_count": 38,
   "id": "2bc4485b",
   "metadata": {},
   "outputs": [],
   "source": [
    "import numpy as np\n",
    "def gengraph(V):\n",
    "    out = \"\"\n",
    "    graph = np.random.randint(0,2, (V, V))\n",
    "    for i in range(len(graph)):\n",
    "        graph[i, i] = 0\n",
    "\n",
    "    E = 0\n",
    "    for i in range(graph.shape[0]):\n",
    "        for j in range(graph.shape[1]):\n",
    "            if graph[i, j]:\n",
    "                out += f\"{i} {j}\\n\"\n",
    "                E += 1\n",
    "    return E, out\n",
    "\n",
    "\n",
    "def genQ(V, Q):\n",
    "    dic = {\n",
    "        1: lambda V: \"\",\n",
    "        2: lambda V: \" \" + \" \".join(str(s) for s in np.random.choice(np.arange(V), 2, replace = False)),\n",
    "        3: lambda V: \" \" + str(np.random.randint(V)),\n",
    "        4: lambda V: \" \" + \" \".join(str(s) for s in np.random.choice(np.arange(V), 2, replace = False)),\n",
    "        5: lambda V: \"\",\n",
    "        6: lambda V: \"\"\n",
    "    }\n",
    "    out = \"\"\n",
    "    for i in range(Q):\n",
    "        q = np.random.randint(1, 7)\n",
    "        out += f\"{q}{dic[q](V)}\\n\"\n",
    "    return out\n",
    "\n",
    "def writetofile(V, Q, filename):\n",
    "    out = \"\"\n",
    "    E, graph = gengraph(V)\n",
    "    out += f\"{V} {E} {Q}\\n\"\n",
    "    out += graph\n",
    "    out += genQ(V, Q)\n",
    "    with open(filename, \"w+\") as file:\n",
    "        file.write(out)\n",
    "    "
   ]
  },
  {
   "cell_type": "code",
   "execution_count": 39,
   "id": "1e435969",
   "metadata": {},
   "outputs": [],
   "source": [
    "writetofile(100, 100, \"mydata.txt\")"
   ]
  },
  {
   "cell_type": "code",
   "execution_count": 33,
   "id": "d16ef261",
   "metadata": {},
   "outputs": [],
   "source": [
    "def loader(fname):\n",
    "    with open(fname) as file:\n",
    "        return file.read()"
   ]
  },
  {
   "cell_type": "code",
   "execution_count": 35,
   "id": "946621d0",
   "metadata": {},
   "outputs": [
    {
     "data": {
      "text/plain": [
       "True"
      ]
     },
     "execution_count": 35,
     "metadata": {},
     "output_type": "execute_result"
    }
   ],
   "source": [
    "loader(\"pyafter.txt\") == loader(\"/Users/amfaber/Google Drive/Kattis/cpp adventures/dont care/cppafter.txt\")"
   ]
  },
  {
   "cell_type": "code",
   "execution_count": 40,
   "id": "e9a53252",
   "metadata": {},
   "outputs": [
    {
     "data": {
      "text/plain": [
       "84"
      ]
     },
     "execution_count": 40,
     "metadata": {},
     "output_type": "execute_result"
    }
   ],
   "source": [
    "ord(\"T\")"
   ]
  },
  {
   "cell_type": "markdown",
   "id": "2ab07342",
   "metadata": {},
   "source": [
    "$test$"
   ]
  }
 ],
 "metadata": {
  "kernelspec": {
   "display_name": "Python 3",
   "language": "python",
   "name": "python3"
  },
  "language_info": {
   "codemirror_mode": {
    "name": "ipython",
    "version": 3
   },
   "file_extension": ".py",
   "mimetype": "text/x-python",
   "name": "python",
   "nbconvert_exporter": "python",
   "pygments_lexer": "ipython3",
   "version": "3.8.8"
  }
 },
 "nbformat": 4,
 "nbformat_minor": 5
}
