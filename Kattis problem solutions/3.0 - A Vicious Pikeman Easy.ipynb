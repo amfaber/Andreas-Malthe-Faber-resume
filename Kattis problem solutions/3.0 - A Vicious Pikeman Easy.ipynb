{
 "cells": [
  {
   "cell_type": "code",
   "execution_count": 24,
   "id": "6dbe1d62",
   "metadata": {},
   "outputs": [
    {
     "name": "stdout",
     "output_type": "stream",
     "text": [
      "2 10\n",
      "2 2 2 2\n",
      "2 4\n"
     ]
    }
   ],
   "source": [
    "#https://open.kattis.com/problems/pikemaneasy\n",
    "#COMPLETED\n",
    "N, T = [int(i) for i in input().split(\" \")]\n",
    "A, B, C, t0 = [int(i) for i in input().split(\" \")]\n",
    "ts = [t0]\n",
    "for i in range(N-1):\n",
    "    ts.append(((A * ts[i] + B) % C)+1)\n",
    "ts = sorted(ts)\n",
    "\n",
    "penalty = 0\n",
    "currtime = 0\n",
    "for i, t in enumerate(ts):\n",
    "    currtime += t\n",
    "    if currtime > T:\n",
    "        currtime -= t\n",
    "        i -= 1\n",
    "        break\n",
    "    penalty = (penalty + currtime) % (10**9 + 7)\n",
    "print(i+1, penalty)"
   ]
  },
  {
   "cell_type": "code",
   "execution_count": null,
   "id": "3085d60c",
   "metadata": {},
   "outputs": [],
   "source": [
    "!"
   ]
  }
 ],
 "metadata": {
  "kernelspec": {
   "display_name": "Python 3",
   "language": "python",
   "name": "python3"
  },
  "language_info": {
   "codemirror_mode": {
    "name": "ipython",
    "version": 3
   },
   "file_extension": ".py",
   "mimetype": "text/x-python",
   "name": "python",
   "nbconvert_exporter": "python",
   "pygments_lexer": "ipython3",
   "version": "3.8.8"
  }
 },
 "nbformat": 4,
 "nbformat_minor": 5
}
