{
 "cells": [
  {
   "cell_type": "code",
   "execution_count": 72,
   "id": "da19faf8",
   "metadata": {},
   "outputs": [
    {
     "name": "stdout",
     "output_type": "stream",
     "text": [
      "3\n",
      "1 3 9\n",
      "2 2 16\n",
      "5 2 11\n",
      "3\n",
      "4\n",
      "2\n"
     ]
    }
   ],
   "source": [
    "#https://open.kattis.com/problems/thanos\n",
    "#COMPLETED\n",
    "numplanets = int(input())\n",
    "lines = []\n",
    "for i in range(numplanets):\n",
    "    lines.append(input())\n",
    "\n",
    "data = [[int(string) for string in (line.split(\" \"))] for line in lines]\n",
    "def mathpart(data):\n",
    "    out = []\n",
    "    for row in data:\n",
    "        Poft = row[0]\n",
    "        R = row[1]\n",
    "        F = row[2]\n",
    "        t = 0\n",
    "        while Poft <= F:\n",
    "            Poft *= R\n",
    "            t += 1\n",
    "        out.append(str(t))\n",
    "    return out\n",
    "answers = mathpart(data)\n",
    "print(\"\\n\".join(answers))\n",
    "\n"
   ]
  },
  {
   "cell_type": "code",
   "execution_count": null,
   "id": "4cd6a581",
   "metadata": {},
   "outputs": [],
   "source": []
  }
 ],
 "metadata": {
  "kernelspec": {
   "display_name": "Python 3",
   "language": "python",
   "name": "python3"
  },
  "language_info": {
   "codemirror_mode": {
    "name": "ipython",
    "version": 3
   },
   "file_extension": ".py",
   "mimetype": "text/x-python",
   "name": "python",
   "nbconvert_exporter": "python",
   "pygments_lexer": "ipython3",
   "version": "3.8.8"
  }
 },
 "nbformat": 4,
 "nbformat_minor": 5
}
