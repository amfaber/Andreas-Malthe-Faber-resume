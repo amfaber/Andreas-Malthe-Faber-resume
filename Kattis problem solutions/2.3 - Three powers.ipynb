{
 "cells": [
  {
   "cell_type": "code",
   "execution_count": 34,
   "id": "af0ef31c",
   "metadata": {},
   "outputs": [
    {
     "name": "stdout",
     "output_type": "stream",
     "text": [
      "0\n"
     ]
    }
   ],
   "source": [
    "#https://open.kattis.com/problems/threepowers\n",
    "#COMPLETED\n",
    "def func(n):\n",
    "    binstr = f\"{n-1:b}\"\n",
    "    out = []\n",
    "    for i, boo in enumerate(binstr[::-1]):\n",
    "        boo = int(boo)\n",
    "        if boo:\n",
    "            out.append(str(3**i))\n",
    "    return \"{ \" + \", \".join(out) + \" }\"\n",
    "for i in range(100):\n",
    "    n = int(input())\n",
    "    if n == 0:\n",
    "        break\n",
    "    print(func(n))"
   ]
  }
 ],
 "metadata": {
  "kernelspec": {
   "display_name": "Python 3",
   "language": "python",
   "name": "python3"
  },
  "language_info": {
   "codemirror_mode": {
    "name": "ipython",
    "version": 3
   },
   "file_extension": ".py",
   "mimetype": "text/x-python",
   "name": "python",
   "nbconvert_exporter": "python",
   "pygments_lexer": "ipython3",
   "version": "3.8.8"
  }
 },
 "nbformat": 4,
 "nbformat_minor": 5
}
