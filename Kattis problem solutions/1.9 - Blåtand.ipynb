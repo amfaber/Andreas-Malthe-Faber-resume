{
 "cells": [
  {
   "cell_type": "code",
   "execution_count": 94,
   "id": "194edf24",
   "metadata": {},
   "outputs": [
    {
     "name": "stdout",
     "output_type": "stream",
     "text": [
      "9\n",
      "8- m\n",
      "7- m\n",
      "6- m\n",
      "5- m\n",
      "4- m\n",
      "3- m\n",
      "2- m\n",
      "1- m\n",
      "+3 b\n",
      "2\n"
     ]
    }
   ],
   "source": [
    "#https://open.kattis.com/problems/bluetooth\n",
    "#COMPLETED\n",
    "import re\n",
    "teeth = dict()\n",
    "LL = {f\"{i}\" for i in range(-8, 0)}\n",
    "UL = {s.replace(\"-\", \"+\") for s in LL}\n",
    "LR = {s[::-1] for s in LL}\n",
    "UR = {s[::-1] for s in UL}\n",
    "teeth.update({\"0-\": LL})\n",
    "teeth.update({\"0+\": UL})\n",
    "teeth.update({\"1-\": LR})\n",
    "teeth.update({\"1+\": UR})\n",
    "chewLR = [True, True]\n",
    "def getLR(s):\n",
    "    m = re.search(\"[+-]\", s)\n",
    "    return str(m.start()) + m[0]\n",
    "\n",
    "n = int(input())\n",
    "inputs = []\n",
    "for i in range(n):\n",
    "    inputs.append(input().split(\" \"))\n",
    "\n",
    "for inp in inputs:\n",
    "    if inp[1] == \"b\":\n",
    "        chewLR[int(getLR(inp[0])[0])] = False\n",
    "    else:\n",
    "        teeth[getLR(inp[0])] = teeth[getLR(inp[0])] - {inp[0]}\n",
    "        \n",
    "for key, val in teeth.items():\n",
    "    if len(val) == 0:\n",
    "        chewLR[int(key[0])] = False\n",
    "if chewLR[0]:\n",
    "    print(0)\n",
    "elif chewLR[1]:\n",
    "    print(1)\n",
    "else:\n",
    "    print(2)\n"
   ]
  },
  {
   "cell_type": "code",
   "execution_count": null,
   "id": "a516bb22",
   "metadata": {},
   "outputs": [],
   "source": [
    "9\n",
    "8- m\n",
    "7- m\n",
    "6- m\n",
    "5- m\n",
    "4- m\n",
    "3- m\n",
    "2- m\n",
    "1- m\n",
    "+3 b"
   ]
  }
 ],
 "metadata": {
  "kernelspec": {
   "display_name": "Python 3",
   "language": "python",
   "name": "python3"
  },
  "language_info": {
   "codemirror_mode": {
    "name": "ipython",
    "version": 3
   },
   "file_extension": ".py",
   "mimetype": "text/x-python",
   "name": "python",
   "nbconvert_exporter": "python",
   "pygments_lexer": "ipython3",
   "version": "3.8.8"
  }
 },
 "nbformat": 4,
 "nbformat_minor": 5
}
