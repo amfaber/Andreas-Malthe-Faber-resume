{
 "cells": [
  {
   "cell_type": "code",
   "execution_count": 13,
   "id": "e5d67184",
   "metadata": {},
   "outputs": [
    {
     "name": "stdout",
     "output_type": "stream",
     "text": [
      "4 3 4 0\n",
      "0 1 2\n",
      "1 2 2\n",
      "3 0 2\n",
      "0\n",
      "1\n",
      "2\n",
      "3\n"
     ]
    }
   ],
   "source": [
    "#https://open.kattis.com/problems/shortestpath1\n",
    "#COMPLETE\n",
    "import sys\n",
    "sys.setrecursionlimit(60000)\n",
    "def thewhole():\n",
    "    firstinp = input()\n",
    "    if firstinp == \"0 0 0 0\":\n",
    "        return 0\n",
    "    n, m, q, s = [int(x) for x in firstinp.split(\" \")]\n",
    "    thegraph = []\n",
    "    for i in range(n):\n",
    "        thegraph.append([])\n",
    "\n",
    "    for i in range(m):\n",
    "        inp = [int(x) for x in input().split(\" \")]\n",
    "        thegraph[inp[0]].append((inp[1], inp[2]))\n",
    "        #thegraph[inp[1]].append((inp[0], inp[2]))\n",
    "\n",
    "    queries = []\n",
    "\n",
    "    for i in range(q):\n",
    "        queries.append(int(input()))\n",
    "\n",
    "\n",
    "    def recursive(i):\n",
    "        if dones[i]:\n",
    "            return\n",
    "        \n",
    "        dones[i] = 1\n",
    "        for u, w in thegraph[i]:\n",
    "            newdist = shortestpaths[i] + w\n",
    "            if shortestpaths[u] > newdist:\n",
    "                shortestpaths[u] = newdist\n",
    "                dones[u] = 0\n",
    "        \n",
    "        for u, w in thegraph[i]:\n",
    "            recursive(u)\n",
    "\n",
    "\n",
    "\n",
    "    shortestpaths = [float(\"inf\")]*n\n",
    "    shortestpaths[s] = 0\n",
    "    dones = [0]*n\n",
    "    recursive(s)\n",
    "    for i in queries:\n",
    "        if shortestpaths[i] == float(\"inf\"):\n",
    "            print(\"Impossible\")\n",
    "        else:\n",
    "            print(shortestpaths[i])\n",
    "    return 1\n",
    "\n",
    "running = 1\n",
    "while running:\n",
    "    running = thewhole()"
   ]
  },
  {
   "cell_type": "code",
   "execution_count": 55,
   "id": "9533d4d5",
   "metadata": {},
   "outputs": [],
   "source": [
    "import random\n",
    "\n",
    "random.seed(3)\n",
    "# n = int(random.random()*10000)+1\n",
    "# m = int(random.random()*30001)\n",
    "n = 10000\n",
    "m = 30000\n",
    "q = int(random.random()*100)+1\n",
    "s = int(random.random()*(n+1))\n",
    "\n",
    "nlist = [i for i in range(n)]\n",
    "graph = [random.sample(nlist, 2) + [int(random.random()*1001)] for i in range(m)]\n",
    "queries = random.sample(nlist, q)\n",
    "dones = [0]*n\n",
    "thegraph = []\n",
    "for i in range(n):\n",
    "    thegraph.append([])\n",
    "\n",
    "for line in graph:\n",
    "    thegraph[line[0]].append(line[1:])\n",
    "\n",
    "shortestpaths = [float(\"inf\")]*n\n",
    "shortestpaths[s] = 0"
   ]
  },
  {
   "cell_type": "code",
   "execution_count": 51,
   "id": "61c3d3d3",
   "metadata": {},
   "outputs": [],
   "source": [
    "for i in range(len(thegraph)):\n",
    "    thegraph[i] = sorted(thegraph[i], key = lambda x: x[1])"
   ]
  },
  {
   "cell_type": "code",
   "execution_count": null,
   "id": "46e14869",
   "metadata": {},
   "outputs": [],
   "source": [
    "import timeit\n",
    "\n",
    "shortestpaths = [float(\"inf\")]*n\n",
    "shortestpaths[s] = 0\n",
    "timeit.timeit(lambda: thewhole(), number = 1)\n",
    "#shortestpaths"
   ]
  }
 ],
 "metadata": {
  "kernelspec": {
   "display_name": "Python 3",
   "language": "python",
   "name": "python3"
  },
  "language_info": {
   "codemirror_mode": {
    "name": "ipython",
    "version": 3
   },
   "file_extension": ".py",
   "mimetype": "text/x-python",
   "name": "python",
   "nbconvert_exporter": "python",
   "pygments_lexer": "ipython3",
   "version": "3.8.8"
  }
 },
 "nbformat": 4,
 "nbformat_minor": 5
}
