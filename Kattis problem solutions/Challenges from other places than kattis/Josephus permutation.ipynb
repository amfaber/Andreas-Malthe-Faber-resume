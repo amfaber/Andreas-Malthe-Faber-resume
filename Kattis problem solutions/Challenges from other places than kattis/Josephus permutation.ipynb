{
 "cells": [
  {
   "cell_type": "code",
   "execution_count": 3,
   "id": "d9d2325d",
   "metadata": {},
   "outputs": [],
   "source": [
    "#https://edabit.com/challenge/4AjWvJdZpFEMbGALd\n",
    "#COMPLETED\n",
    "def who_goes_free(P, k):\n",
    "    l = [i for i in range(P)]\n",
    "    i = -1\n",
    "    while len(l) > 1:\n",
    "        i = (i + k) % len(l)\n",
    "        l.pop(i)\n",
    "        i -= 1\n",
    "    return l[0]\n"
   ]
  }
 ],
 "metadata": {
  "kernelspec": {
   "display_name": "Python 3",
   "language": "python",
   "name": "python3"
  },
  "language_info": {
   "codemirror_mode": {
    "name": "ipython",
    "version": 3
   },
   "file_extension": ".py",
   "mimetype": "text/x-python",
   "name": "python",
   "nbconvert_exporter": "python",
   "pygments_lexer": "ipython3",
   "version": "3.8.8"
  }
 },
 "nbformat": 4,
 "nbformat_minor": 5
}
