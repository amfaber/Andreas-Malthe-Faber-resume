{
 "cells": [
  {
   "cell_type": "code",
   "execution_count": 12,
   "id": "78d98dbe",
   "metadata": {},
   "outputs": [
    {
     "name": "stdout",
     "output_type": "stream",
     "text": [
      ":)xsy:->>;-)::)3\n",
      "0\n",
      "9\n",
      "13\n"
     ]
    },
    {
     "data": {
      "text/plain": [
       "[None, None, None]"
      ]
     },
     "execution_count": 12,
     "metadata": {},
     "output_type": "execute_result"
    }
   ],
   "source": [
    "#https://open.kattis.com/problems/smil\n",
    "#COMPLETED\n",
    "import re\n",
    "inp = input()\n",
    "matches = re.finditer(\":\\)|:-\\)|;\\)|;-\\)\", inp)\n",
    "[print(i.start()) for i in matches]"
   ]
  }
 ],
 "metadata": {
  "kernelspec": {
   "display_name": "Python 3",
   "language": "python",
   "name": "python3"
  },
  "language_info": {
   "codemirror_mode": {
    "name": "ipython",
    "version": 3
   },
   "file_extension": ".py",
   "mimetype": "text/x-python",
   "name": "python",
   "nbconvert_exporter": "python",
   "pygments_lexer": "ipython3",
   "version": "3.8.8"
  }
 },
 "nbformat": 4,
 "nbformat_minor": 5
}
