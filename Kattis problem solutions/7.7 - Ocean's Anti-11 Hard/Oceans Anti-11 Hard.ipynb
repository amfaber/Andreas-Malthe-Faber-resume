{
 "cells": [
  {
   "cell_type": "code",
   "execution_count": 19,
   "id": "b34f426d",
   "metadata": {},
   "outputs": [
    {
     "name": "stdout",
     "output_type": "stream",
     "text": [
      "3\n",
      "1 0\n",
      "3 101\n",
      "5 11\n",
      "1\n",
      "7\n",
      "13\n"
     ]
    }
   ],
   "source": [
    "#https://open.kattis.com/problems/anti11hard\n",
    "#COMPLETED\n",
    "def counter(n, b):\n",
    "    l = len(b)\n",
    "    if l == 1:\n",
    "        return 1\n",
    "    pools = [1]*2 + [0]*(len(b)-2)\n",
    "\n",
    "    graph = [[i+1] for i in range(len(b)-1)]\n",
    "    graph.append([])\n",
    "\n",
    "    def substr(npool, l):\n",
    "        if l == 0:\n",
    "            return \"\"\n",
    "        return b[npool-l+1:npool] + str(int(not int(b[npool])))\n",
    "    for i in range(len(b)):\n",
    "        ls = [l for l in range(i+1)][::-1]\n",
    "        for l in ls:\n",
    "            if substr(i, l) == b[:l]:\n",
    "                graph[i].append(l)\n",
    "                break\n",
    "\n",
    "    for i in range(2, n+1):\n",
    "        poolsnew = [0]*len(b)\n",
    "        for to in range(len(b)):\n",
    "            for idx in graph[to]:\n",
    "                poolsnew[idx] += pools[to]\n",
    "        pools = poolsnew.copy()\n",
    "    return sum(pools)\n",
    "\n",
    "ninputs = int(input())\n",
    "outs = []\n",
    "for i in range(ninputs):\n",
    "    n, b = input().split(\" \")\n",
    "    n = int(n)\n",
    "    outs.append(counter(n, b) % (10**9 + 7))\n",
    "\n",
    "for o in outs:\n",
    "    print(o)"
   ]
  }
 ],
 "metadata": {
  "kernelspec": {
   "display_name": "Python 3",
   "language": "python",
   "name": "python3"
  },
  "language_info": {
   "codemirror_mode": {
    "name": "ipython",
    "version": 3
   },
   "file_extension": ".py",
   "mimetype": "text/x-python",
   "name": "python",
   "nbconvert_exporter": "python",
   "pygments_lexer": "ipython3",
   "version": "3.8.8"
  }
 },
 "nbformat": 4,
 "nbformat_minor": 5
}
